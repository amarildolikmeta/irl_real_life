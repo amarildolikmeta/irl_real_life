{
 "cells": [
  {
   "cell_type": "code",
   "execution_count": 105,
   "metadata": {},
   "outputs": [],
   "source": [
    "import json\n",
    "import pickle\n",
    "import pandas as pd\n",
    "import datetime\n",
    "import numpy as np\n",
    "from itertools import groupby\n",
    "from operator import attrgetter\n",
    "import re\n",
    "import pandas as pd\n",
    "import matplotlib.pyplot as plt\n",
    "\n",
    "base_dir = '../datasets/twitter/'\n"
   ]
  },
  {
   "cell_type": "markdown",
   "metadata": {},
   "source": [
    "# Read Raw Twitter Data"
   ]
  },
  {
   "cell_type": "code",
   "execution_count": 106,
   "metadata": {},
   "outputs": [],
   "source": [
    "tweets_following = pickle.loads(open(base_dir + 'states_tweets', 'rb').read())\n",
    "date_start = pickle.loads(open(base_dir + 'actions_tweets', 'rb').read())"
   ]
  },
  {
   "cell_type": "code",
   "execution_count": 107,
   "metadata": {},
   "outputs": [],
   "source": [
    "start = date_start['Bob'][2][5][0]\n",
    "\n",
    "actions = {}\n",
    "states = {}\n",
    "real_actions = {}\n",
    "for us in tweets_following:\n",
    "    actions[us] = []\n",
    "    states[us] = []\n",
    "    real_actions[us] = []\n",
    "    for i, t_f in enumerate(tweets_following[us]):\n",
    "        found = False\n",
    "        if t_f[0] < start:\n",
    "            continue\n",
    "        for j, t_n in enumerate(date_start[us][2]):\n",
    "            if t_n[7] == t_f[1]:\n",
    "                actions[us].append(t_f+[1])\n",
    "                real_actions[us].append([1])\n",
    "                states[us].append(t_f)\n",
    "                found = True\n",
    "            if found:\n",
    "                break\n",
    "        if not found:\n",
    "            if np.random.random() < 0.01:\n",
    "                actions[us].append(t_f+[0])\n",
    "                real_actions[us].append([0])\n",
    "                states[us].append(t_f)"
   ]
  },
  {
   "cell_type": "code",
   "execution_count": 108,
   "metadata": {},
   "outputs": [],
   "source": [
    "statistics = {}\n",
    "for us in actions:\n",
    "    num_si = 0\n",
    "    num_no = 0\n",
    "    num_like_si = 0\n",
    "    num_like_no = 0\n",
    "    num_ret_si = 0\n",
    "    num_ret_no = 0\n",
    "    med_ret = 0\n",
    "    med_like = 0\n",
    "    num_tweet = 0\n",
    "    for ac in actions[us]:\n",
    "        num_tweet +=1\n",
    "        med_like += ac[3]\n",
    "        med_ret += ac[2]\n",
    "        if ac[-1] == 0:\n",
    "            num_no += 1\n",
    "            num_like_no += ac[3]\n",
    "            num_ret_no += ac[2]\n",
    "        else:\n",
    "            num_si += 1\n",
    "            num_like_si += ac[3]\n",
    "            num_ret_si += ac[2]\n",
    "    statistics[us] = {'yes':num_si, 'no':num_no, 'num_ret_yes':num_ret_si, 'num_ret_no':num_ret_no, \n",
    "                      'num_like_yes':num_like_si, 'num_like_no':num_like_no}"
   ]
  },
  {
   "cell_type": "code",
   "execution_count": 109,
   "metadata": {},
   "outputs": [],
   "source": [
    "rewards = {}\n",
    "real_states = {}\n",
    "max_pop = {}\n",
    "for us in actions:\n",
    "    if len(actions[us]) == 0:\n",
    "        continue\n",
    "    pop = actions[us][0][2] + actions[us][0][3]\n",
    "    tot_delay = 0\n",
    "    tot_pop = 0\n",
    "    max_pop[us] = []\n",
    "    #rewards[us] = [[0, pop]]\n",
    "    rewards[us] = []\n",
    "    real_states[us] = []\n",
    "    last = actions[us][0][0]\n",
    "    num_t_day = 0\n",
    "    n_actions = 0\n",
    "    last_tweet = -1\n",
    "    for ac in actions[us]:\n",
    "        n_actions += 1\n",
    "        pop = ac[2] + ac[3]\n",
    "        max_pop[us].append(pop)\n",
    "        if n_actions > 10:\n",
    "            n_actions = 1\n",
    "            num_t_day = 0\n",
    "            last_tweet = -1\n",
    "        if last_tweet != -1:\n",
    "            delta_t = -np.max((0,1-0.1*(n_actions-last_tweet)))\n",
    "        else:\n",
    "            delta_t = 0\n",
    "        if ac[-1] == 1:\n",
    "            num_t_day += 1\n",
    "            last_tweet = n_actions            \n",
    "            rewards[us].append([delta_t, pop, num_t_day/10 ])\n",
    "        else:\n",
    "            rewards[us].append([delta_t,0, num_t_day/10])\n",
    "        real_states[us].append([delta_t, pop, num_t_day/10])\n",
    "\n",
    "\n",
    "        tot_delay += (ac[0]-last).total_seconds()/60/60/24\n",
    "        tot_delay += pop\n",
    "        if ac[-1] == 1:\n",
    "            last = ac[0]\n",
    "    statistics[us]['pop'] = tot_pop/len(rewards[us])\n",
    "    statistics[us]['delay'] = tot_delay/len(rewards[us])"
   ]
  },
  {
   "cell_type": "code",
   "execution_count": 110,
   "metadata": {},
   "outputs": [],
   "source": [
    "for us in rewards:\n",
    "    for a in range(len(rewards[us])):\n",
    "        r = rewards[us][a]\n",
    "        m = np.mean(max_pop[us])\n",
    "        r[1] /= m\n",
    "        r[1] = np.clip(r[1], 0, 1)\n",
    "        rewards[us][a] = r\n",
    "        s = real_states[us][a]\n",
    "        s[1] /= m\n",
    "        s[1] = np.clip(s[1], 0, 1)\n",
    "        real_states[us][a] = s"
   ]
  },
  {
   "cell_type": "code",
   "execution_count": 111,
   "metadata": {},
   "outputs": [],
   "source": [
    "real_actions = {}\n",
    "for us in actions:\n",
    "    real_actions[us] = []\n",
    "    for act in actions[us]:\n",
    "        real_actions[us].append(act[-1])"
   ]
  },
  {
   "cell_type": "markdown",
   "metadata": {},
   "source": [
    "# Save the trajectories"
   ]
  },
  {
   "cell_type": "code",
   "execution_count": 113,
   "metadata": {},
   "outputs": [],
   "source": [
    "pickle.dump(real_actions, open(base_dir + 'actions.pkl', 'wb'))\n",
    "pickle.dump(rewards,open(base_dir + 'rewards.pkl', 'wb'))\n",
    "pickle.dump(real_states,open(base_dir + 'states.pkl', 'wb'))"
   ]
  },
  {
   "cell_type": "code",
   "execution_count": null,
   "metadata": {},
   "outputs": [],
   "source": []
  }
 ],
 "metadata": {
  "kernelspec": {
   "display_name": "Python 3",
   "language": "python",
   "name": "python3"
  },
  "language_info": {
   "codemirror_mode": {
    "name": "ipython",
    "version": 3
   },
   "file_extension": ".py",
   "mimetype": "text/x-python",
   "name": "python",
   "nbconvert_exporter": "python",
   "pygments_lexer": "ipython3",
   "version": "3.6.9"
  }
 },
 "nbformat": 4,
 "nbformat_minor": 2
}
